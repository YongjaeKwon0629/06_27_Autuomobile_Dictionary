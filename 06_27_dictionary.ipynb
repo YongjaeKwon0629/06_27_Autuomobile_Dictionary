{
  "nbformat": 4,
  "nbformat_minor": 0,
  "metadata": {
    "colab": {
      "provenance": [],
      "authorship_tag": "ABX9TyMUr4gKQwB9zoJEaipEA96E",
      "include_colab_link": true
    },
    "kernelspec": {
      "name": "python3",
      "display_name": "Python 3"
    },
    "language_info": {
      "name": "python"
    }
  },
  "cells": [
    {
      "cell_type": "markdown",
      "metadata": {
        "id": "view-in-github",
        "colab_type": "text"
      },
      "source": [
        "<a href=\"https://colab.research.google.com/github/YongjaeKwon0629/06_27_Autuomobile_Dictionary/blob/main/06_27_dictionary.ipynb\" target=\"_parent\"><img src=\"https://colab.research.google.com/assets/colab-badge.svg\" alt=\"Open In Colab\"/></a>"
      ]
    },
    {
      "cell_type": "markdown",
      "source": [
        "# **Python Dictionaries**"
      ],
      "metadata": {
        "id": "Naxjshnyywqv"
      }
    },
    {
      "cell_type": "code",
      "source": [
        "thisdict = {\n",
        "  \"brand\": \"Ford\",\n",
        "  \"model\": \"Mustang\",\n",
        "  \"year\": 1964\n",
        "}"
      ],
      "metadata": {
        "id": "7pES4_wKy3gq"
      },
      "execution_count": 1,
      "outputs": []
    },
    {
      "cell_type": "markdown",
      "source": [
        "**딕셔너리**  \n",
        "딕셔너리는 키:값의 쌍으로 데이터 값을 저장하는 데 사용된다.  \n",
        "사전은 정렬되어 있고, 변경 가능하며 중복을 허용하지 않는다.  \n",
        "**참고:**  \n",
        "Python 3.7 버전부터 사전은 정렬되어 있다.  \n",
        "Python 3.6 이하 버전에서는 사전은 정렬되어 있지 않다.  \n",
        "딕셔너리는 중괄호로 작성되며 키와 값의 쌍을 갖는다.  \n",
        "  \n",
        "**예**  \n",
        "딕셔너리를 만들고 출력해보시"
      ],
      "metadata": {
        "id": "e1SPzEgGy-GF"
      }
    },
    {
      "cell_type": "code",
      "execution_count": null,
      "metadata": {
        "id": "XeyuOlVoyMrE"
      },
      "outputs": [],
      "source": [
        "thisdict = {\n",
        "  \"brand\": \"Ford\",\n",
        "  \"model\": \"Mustang\",\n",
        "  \"year\": 1964\n",
        "}\n",
        "print(thisdict)"
      ]
    },
    {
      "cell_type": "markdown",
      "source": [
        "**딕셔너리 항목**  \n",
        "딕셔너리 항목은 정렬되고 변경 가능하며 중복을 허용하지 않습니다.\n",
        "\n",
        "딕셔너리 항목은 키:값 쌍으로 표현되며, 키 이름을 사용하여 참조할 수 있습니다.  \n",
        "**예**  \n",
        "딕셔너리의 \"브랜드\" 값을 출력하세요"
      ],
      "metadata": {
        "id": "EulhfQaM0PIs"
      }
    },
    {
      "cell_type": "code",
      "source": [
        "thisdict = {\n",
        "   \"brand\": \"Ford\",\n",
        "   \"model\": \"Mustang\",\n",
        "   \"year\": 1964\n",
        "\n",
        "}\n",
        "print(thisdict[\"brand\"])"
      ],
      "metadata": {
        "colab": {
          "base_uri": "https://localhost:8080/"
        },
        "id": "ZPxsaLKB0c3e",
        "outputId": "8f073515-1b46-4868-9986-ac84a87b2ec6"
      },
      "execution_count": 4,
      "outputs": [
        {
          "output_type": "stream",
          "name": "stdout",
          "text": [
            "Ford\n"
          ]
        }
      ]
    },
    {
      "cell_type": "markdown",
      "source": [
        "**순서가 있는 것인가, 없는 것인가?**  \n",
        "사전이 정렬되어 있다는 것은 각 항목에 정해진 순서가 있으며, 그 순서는 변하지 않는다는 것을 의미합니다.\n",
        "\n",
        "순서가 없다는 것은 항목에 정의된 순서가 없다는 것을 의미하며, 인덱스를 사용하여 항목을 참조할 수 없습니다."
      ],
      "metadata": {
        "id": "767XpLie1m_v"
      }
    },
    {
      "cell_type": "markdown",
      "source": [
        "**변하기 쉬운가?**  \n",
        "사전은 변경 가능합니다. 즉, 사전을 만든 후에 항목을 변경, 추가 또는 제거할 수 있습니다."
      ],
      "metadata": {
        "id": "R7SN-hZJ1tAg"
      }
    },
    {
      "cell_type": "markdown",
      "source": [
        "**중복은 허용되지 않는다**  \n",
        "사전에는 동일한 키를 가진 두 항목이 있을 수 없습니다.  \n",
        "  \n",
        "**예**  \n",
        "중복된 값은 기존 값을 덮어씁니다."
      ],
      "metadata": {
        "id": "u18HEgNa1y7T"
      }
    },
    {
      "cell_type": "code",
      "source": [
        "thisdict = {\n",
        "  \"brand\": \"Ford\",\n",
        "  \"model\": \"Mustang\",\n",
        "  \"year\": 1964,\n",
        "  \"year\": 2020\n",
        "}\n",
        "print(thisdict)"
      ],
      "metadata": {
        "colab": {
          "base_uri": "https://localhost:8080/"
        },
        "id": "jJK6Pxsg2BpG",
        "outputId": "b2d5e1d7-af84-4c51-a207-c36262919108"
      },
      "execution_count": 6,
      "outputs": [
        {
          "output_type": "stream",
          "name": "stdout",
          "text": [
            "{'brand': 'Ford', 'model': 'Mustang', 'year': 2020}\n"
          ]
        }
      ]
    },
    {
      "cell_type": "markdown",
      "source": [
        "**사전 길이**  \n",
        "사전에 항목이 몇 개 있는지 확인하려면 다음 len()함수를 사용하세요  \n",
        "  \n",
        "**예**  \n",
        "사전의 항목 수를 출력하세요:"
      ],
      "metadata": {
        "id": "Z5GFKwVq2MW5"
      }
    },
    {
      "cell_type": "code",
      "source": [
        "print(len(thisdict))"
      ],
      "metadata": {
        "colab": {
          "base_uri": "https://localhost:8080/"
        },
        "id": "u_soqNGt2e5r",
        "outputId": "3dea8a2c-69e3-49c1-812e-741b0e30232e"
      },
      "execution_count": 7,
      "outputs": [
        {
          "output_type": "stream",
          "name": "stdout",
          "text": [
            "3\n"
          ]
        }
      ]
    },
    {
      "cell_type": "markdown",
      "source": [
        "**사전 항목 - 데이터 유형**  \n",
        "사전 항목의 값은 모든 데이터 유형이 될 수 있습니다.  \n",
        "  \n",
        "\n",
        "**예**  \n",
        "\n",
        "문자열, 정수, 부울 및 목록 데이터 유형:"
      ],
      "metadata": {
        "id": "dCTOcQ452g6V"
      }
    },
    {
      "cell_type": "code",
      "source": [
        "thisdict = {\n",
        "  \"brand\": \"Ford\",\n",
        "  \"electric\": False,\n",
        "  \"year\": 1964,\n",
        "  \"colors\": [\"red\", \"white\", \"blue\"]\n",
        "}"
      ],
      "metadata": {
        "id": "061KINM82gb6"
      },
      "execution_count": 9,
      "outputs": []
    },
    {
      "cell_type": "markdown",
      "source": [
        "# **1-2. dictionary comprehension - 딕셔너리 생성 및 변환**\n",
        "**사용된 명령어**  \n",
        "**리스트 생성:** ['item1', 'item2']  \n",
        "**딕셔너리 생성:** {}  \n",
        "**딕셔너리 값 할당:** dict['key'] = value  \n",
        "**딕셔너리 값 조회:** dict['key']  \n",
        "**print():** 출력"
      ],
      "metadata": {
        "id": "aYxdxCGn30i_"
      }
    },
    {
      "cell_type": "markdown",
      "source": [
        "**1) 센서 데이터**  \n",
        "**각 센서별 감지거리 저장**"
      ],
      "metadata": {
        "id": "SV7oiZ2V21ZI"
      }
    },
    {
      "cell_type": "code",
      "source": [
        "#1단계: 빈 센서 테이터 딕셔너리 생성\n",
        "sensor_data={}\n",
        "#2단계: 카메라 센서 데이터 추가\n",
        "sensor_data['camera']=8.5\n",
        "#3단계: 라이다 센서 데이터 추가\n",
        "sensor_data['lidar']=12.3\n",
        "#4단계: 최종 결과 출력\n",
        "print(sensor_data)"
      ],
      "metadata": {
        "colab": {
          "base_uri": "https://localhost:8080/"
        },
        "id": "-geDha6o3n53",
        "outputId": "21431bf3-d946-4646-b6ee-28da56f144b4"
      },
      "execution_count": 12,
      "outputs": [
        {
          "output_type": "stream",
          "name": "stdout",
          "text": [
            "{'camera': 8.5, 'lidar': 12.3}\n"
          ]
        }
      ]
    },
    {
      "cell_type": "markdown",
      "source": [
        "**2) 경로 계획:**  \n",
        "목적지별 거리 정보 관리"
      ],
      "metadata": {
        "id": "FQHfPOhm4477"
      }
    },
    {
      "cell_type": "code",
      "source": [
        "#2. 경로 계획- 목적지별 거리 정보\n",
        "destinations = ['집','회사','마트','주유소']\n",
        "distnaces_km = [0, 15, 8, 12]\n",
        "\n",
        "route_plan={}\n",
        "route_plan['집']=0\n",
        "route_plan['회사']=15\n",
        "route_plan['마트']=8\n",
        "route_plan['주유소']=12\n",
        "\n",
        "print(\"목적지별 거리:\", route_plan)"
      ],
      "metadata": {
        "colab": {
          "base_uri": "https://localhost:8080/"
        },
        "id": "W_Te-obh4zdt",
        "outputId": "48063376-b693-4689-c84e-ec1cf0cd73f2"
      },
      "execution_count": 14,
      "outputs": [
        {
          "output_type": "stream",
          "name": "stdout",
          "text": [
            "목적지별 거리: {'집': 0, '회사': 15, '마트': 8, '주유소': 12}\n"
          ]
        }
      ]
    },
    {
      "cell_type": "markdown",
      "source": [
        "**3) 차량 점검:**  \n",
        "부품별 상태 확인"
      ],
      "metadata": {
        "id": "dlkB7re75reB"
      }
    },
    {
      "cell_type": "code",
      "source": [
        "#3.차량 상태 체크\n",
        "vehicle_parts=['엔진','브레이크','타이어','배터리']\n",
        "status_codes=['정상','정상','교체필요','정상']\n",
        "\n",
        "vehicle_status={}\n",
        "vehicle_status['엔진']='정상'\n",
        "vehicle_status['브레이크']='정상'\n",
        "vehicle_status['타이어']='교체 필요'\n",
        "vehicle_status['배터리']='정상'\n",
        "\n",
        "print(\"차량 상태:\", vehicle_status)"
      ],
      "metadata": {
        "colab": {
          "base_uri": "https://localhost:8080/"
        },
        "id": "U4UlXIN451U6",
        "outputId": "f30c0dcd-335e-490d-a126-ff3cd9462f5d"
      },
      "execution_count": 15,
      "outputs": [
        {
          "output_type": "stream",
          "name": "stdout",
          "text": [
            "차량 상태: {'엔진': '정상', '브레이크': '정상', '타이어': '교체 필요', '배터리': '정상'}\n"
          ]
        }
      ]
    },
    {
      "cell_type": "markdown",
      "source": [
        "**4) 신호등:**  \n",
        "교차로별 현재 신호 **상태**"
      ],
      "metadata": {
        "id": "jSql-DQ97K0F"
      }
    },
    {
      "cell_type": "code",
      "source": [
        "#4. 신호등 정보 관리\n",
        "intersections=['서울역','강남역','홍대입구']\n",
        "light_colors=['빨강','초록','노랑']\n",
        "\n",
        "traffic_lights={}\n",
        "traffic_lights['서울역']='빨강'\n",
        "traffic_lights['강남역']='초록'\n",
        "traffic_lights['홍대입구']='노랑'\n",
        "\n",
        "print(\"교차로 신호등:\", traffic_lights)"
      ],
      "metadata": {
        "colab": {
          "base_uri": "https://localhost:8080/"
        },
        "id": "pU_0IBH-7Wem",
        "outputId": "2d308ae6-9b81-4dcb-84c2-1fa076e779f0"
      },
      "execution_count": 17,
      "outputs": [
        {
          "output_type": "stream",
          "name": "stdout",
          "text": [
            "교차로 신호등: {'서울역': '빨강', '강남역': '초록', '홍대입구': '노랑'}\n"
          ]
        }
      ]
    },
    {
      "cell_type": "markdown",
      "source": [
        "**5)주차장:**  \n",
        "구역별 빈자리 개수"
      ],
      "metadata": {
        "id": "rjunGWRg8Fyw"
      }
    },
    {
      "cell_type": "code",
      "source": [
        "#5. 주차장 정보\n",
        "parking_zones=['A구역','B구역','C구역','D구역']\n",
        "empty_spots=[5,0,12,3]\n",
        "\n",
        "parking_info={}\n",
        "parking_info['A구역']=5\n",
        "parking_info['B구역']=0\n",
        "parking_info['C구역']=12\n",
        "parking_info['D구역']=3\n",
        "\n",
        "print(\"주차장 빈자리:\", parking_info)"
      ],
      "metadata": {
        "colab": {
          "base_uri": "https://localhost:8080/"
        },
        "id": "-midz-lv8Obw",
        "outputId": "358d1818-901f-4417-ba0c-ad685e9296af"
      },
      "execution_count": 18,
      "outputs": [
        {
          "output_type": "stream",
          "name": "stdout",
          "text": [
            "주차장 빈자리: {'A구역': 5, 'B구역': 0, 'C구역': 12, 'D구역': 3}\n"
          ]
        }
      ]
    },
    {
      "cell_type": "markdown",
      "source": [
        "**6) 속도 제한:**  \n",
        "도로 종류별 제한속도"
      ],
      "metadata": {
        "id": "N3t_Du6W8-Im"
      }
    },
    {
      "cell_type": "code",
      "source": [
        "# 6. 속도 제한 구간\n",
        "road_types=['시내도로','국도','고속도로','스쿨존']\n",
        "speed_limits=[50,70,100,30]\n",
        "\n",
        "speed_zones={}\n",
        "speed_zones['시내도로']=50\n",
        "speed_zones['국도']=70\n",
        "speed_zones['고속도로']=100\n",
        "speed_zones['스쿨존']=30\n",
        "\n",
        "print(\"구간별 제한 속도:\", speed_zones)\n"
      ],
      "metadata": {
        "colab": {
          "base_uri": "https://localhost:8080/"
        },
        "id": "xt5Bz0A79Fr0",
        "outputId": "9c858558-a8d4-46a3-d692-71c343781177"
      },
      "execution_count": 19,
      "outputs": [
        {
          "output_type": "stream",
          "name": "stdout",
          "text": [
            "구간별 제한 속도: {'시내도로': 50, '국도': 70, '고속도로': 100, '스쿨존': 30}\n"
          ]
        }
      ]
    },
    {
      "cell_type": "markdown",
      "source": [
        "**7) 주유소:**  \n",
        "각 주유소까지의 거리"
      ],
      "metadata": {
        "id": "qyx5H6Je9pTH"
      }
    },
    {
      "cell_type": "code",
      "source": [
        "# 7. 연료/충전소 정보\n",
        "station_names=['GS칼텍스','현대오일뱅크','테슬라충전소','SK에너지']\n",
        "distances_to_stations=[2.5, 5.8, 1.2, 4.3]\n",
        "\n",
        "fuel_stations={}\n",
        "fuel_stations['GS 칼텍스']=2.5\n",
        "fuel_stations['현대오일뱅크']=5.8\n",
        "fuel_stations['테슬라충전소']=1.2\n",
        "fuel_stations['SK에너지']=4.3\n",
        "\n",
        "print(\"주유소까지의 거리\", fuel_stations)"
      ],
      "metadata": {
        "colab": {
          "base_uri": "https://localhost:8080/"
        },
        "id": "L0hCdDKP9vhp",
        "outputId": "c8cad413-95c5-4bc3-fc30-c6a51eb2e47e"
      },
      "execution_count": 21,
      "outputs": [
        {
          "output_type": "stream",
          "name": "stdout",
          "text": [
            "주유소까지의 거리 {'GS 칼텍스': 2.5, '현대오일뱅크': 5.8, '테슬라충전소': 1.2, 'SK에너지': 4.3}\n"
          ]
        }
      ]
    },
    {
      "cell_type": "markdown",
      "source": [
        "**날씨 대응:**  \n",
        "날씨에 따른 주행 모드"
      ],
      "metadata": {
        "id": "y2zxpZOd-s0k"
      }
    },
    {
      "cell_type": "code",
      "source": [
        "# 8. 날씨별 주행 모드\n",
        "weather_conditions=['맑음','비','눈','안개']\n",
        "drive_modes=['일반','주의','서행','서행']\n",
        "\n",
        "weather_driving={}\n",
        "weather_driving['맑음']='일반'\n",
        "weather_driving['비']='주의'\n",
        "weather_driving['눈']='서행'\n",
        "weather_driving['안개']='서행'\n",
        "\n",
        "print(\"날씨에 따른 주행 모드:\", weather_driving)"
      ],
      "metadata": {
        "colab": {
          "base_uri": "https://localhost:8080/"
        },
        "id": "XN1ZvXjO-tTu",
        "outputId": "d184aaa2-fe49-42ed-a4c1-50f7ec77886f"
      },
      "execution_count": 22,
      "outputs": [
        {
          "output_type": "stream",
          "name": "stdout",
          "text": [
            "날씨에 따른 주행 모드: {'맑음': '일반', '비': '주의', '눈': '서행', '안개': '서행'}\n"
          ]
        }
      ]
    },
    {
      "cell_type": "code",
      "source": [
        "# 9. 간단한 데이터 조회 예제\n",
        "print(\"\\n=== 데이터 조회 예제 ===\")\n",
        "print(\"라이다 센서 거리:\", sensor_data['lidar'], \"미터\")\n",
        "print(\"회사까지 거리:\", route_plan['회사'], \"km\")\n",
        "print(\"타이어 상태:\", vehicle_status['타이어'])\n",
        "print(\"강남역 신호등:\", traffic_lights['강남역'])\n",
        "print(\"C구역 빈자리:\", parking_info['C구역'], \"개\")\n",
        "print(\"고속도로 제한속도:\", speed_zones['고속도로'], \"km/h\")\n",
        "print(\"가장 가까운 충전소:\", \"테슬라충전소\", fuel_stations['테슬라충전소'], \"km\")\n",
        "print(\"비올 때 주행모드:\", weather_driving['비'])"
      ],
      "metadata": {
        "colab": {
          "base_uri": "https://localhost:8080/"
        },
        "id": "F62XbCG0_iuz",
        "outputId": "1d1c85a5-49fc-472e-b7c0-c32dbf991c89"
      },
      "execution_count": 23,
      "outputs": [
        {
          "output_type": "stream",
          "name": "stdout",
          "text": [
            "\n",
            "=== 데이터 조회 예제 ===\n",
            "라이다 센서 거리: 12.3 미터\n",
            "회사까지 거리: 15 km\n",
            "타이어 상태: 교체 필요\n",
            "강남역 신호등: 초록\n",
            "C구역 빈자리: 12 개\n",
            "고속도로 제한속도: 100 km/h\n",
            "가장 가까운 충전소: 테슬라충전소 1.2 km\n",
            "비올 때 주행모드: 주의\n"
          ]
        }
      ]
    }
  ]
}