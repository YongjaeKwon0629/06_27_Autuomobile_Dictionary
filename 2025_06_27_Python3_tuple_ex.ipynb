{
  "nbformat": 4,
  "nbformat_minor": 0,
  "metadata": {
    "colab": {
      "provenance": [],
      "gpuType": "T4",
      "authorship_tag": "ABX9TyP1FETAEnectO/bn2/lZ+XU",
      "include_colab_link": true
    },
    "kernelspec": {
      "name": "python3",
      "display_name": "Python 3"
    },
    "language_info": {
      "name": "python"
    },
    "accelerator": "GPU"
  },
  "cells": [
    {
      "cell_type": "markdown",
      "metadata": {
        "id": "view-in-github",
        "colab_type": "text"
      },
      "source": [
        "<a href=\"https://colab.research.google.com/github/YongjaeKwon0629/06_27_Autuomobile_Dictionary/blob/main/2025_06_27_Python3_tuple_ex.ipynb\" target=\"_parent\"><img src=\"https://colab.research.google.com/assets/colab-badge.svg\" alt=\"Open In Colab\"/></a>"
      ]
    },
    {
      "cell_type": "markdown",
      "source": [
        "# **파이썬 튜플**"
      ],
      "metadata": {
        "id": "E8a0GWurUXTL"
      }
    },
    {
      "cell_type": "code",
      "execution_count": null,
      "metadata": {
        "id": "nuFudSCwT_Ub"
      },
      "outputs": [],
      "source": [
        "mytuple = (\"apple\", \"banana\", \"cherry\")"
      ]
    },
    {
      "cell_type": "markdown",
      "source": [
        "**튜플**  \n",
        "튜플은 하나의 변수에 여러 항목을 저장하는 데 사용됩니다.  \n",
        "  \n",
        "튜플은 파이썬에서 데이터 컬렉션을 저장하는 데 사용되는 4가지 내장 데어티 유형 중 하나입니다.  \n",
        "나머지 3가지는 '리스트', '셋', '딕셔너리'이며 각각 다른 특성과 사용법을 가지고 있습니다.  \n",
        "\n",
        "**튜플은 순서가 있고 변경할 수 없는**  컬렉션입니다.  \n",
        "\n",
        "튜플은 둥근 괄호로 작성됩니다.  \n",
        "\n",
        "**예**    \n",
        "튜플을 생성합니다.\n"
      ],
      "metadata": {
        "id": "kCLi5kKcUfy7"
      }
    },
    {
      "cell_type": "code",
      "source": [
        "thistuple=(\"apple\",\"banana\",\"cherry\")\n",
        "print(thistuple)"
      ],
      "metadata": {
        "colab": {
          "base_uri": "https://localhost:8080/"
        },
        "id": "RWYVxH2DUT2n",
        "outputId": "3aecdd8d-7193-4d3b-8659-b34a58b43263"
      },
      "execution_count": null,
      "outputs": [
        {
          "output_type": "stream",
          "name": "stdout",
          "text": [
            "('apple', 'banana', 'cherry')\n"
          ]
        }
      ]
    },
    {
      "cell_type": "markdown",
      "source": [
        "**튜플 항목**  \n",
        "튜플 항목은 정렬되어 있고, 변경할 수 없으며, 중복 값을 허용합니다.\n",
        "\n",
        "튜플 항목은 인덱싱됩니다. 첫 번째 항목에는 인덱스가 있고 [0], 두 번째 항목에는 인덱스가 있습니다 [1]."
      ],
      "metadata": {
        "id": "ckZOgAXFVaSY"
      }
    },
    {
      "cell_type": "markdown",
      "source": [
        "**순서**  \n",
        "튜플이 순서가 있다는 것은 항목들이 정해진 순서를 가지고 있으며, 그 순서가 변경되지 않는다는 것을 의미합니다."
      ],
      "metadata": {
        "id": "4HObUu2mVcqD"
      }
    },
    {
      "cell_type": "markdown",
      "source": [
        "**중복 허용**  \n",
        "튜플은 인덱싱되므로 동일한 값을 갖는 항목을 가질 수 있습니다.  \n",
        "  \n",
        "**예**  \n",
        "튜플은 중복 값을 허용합니다."
      ],
      "metadata": {
        "id": "sthboF4CVkZ8"
      }
    },
    {
      "cell_type": "code",
      "source": [
        "thistuple = (\"apple\", \"banana\", \"cherry\", \"apple\", \"cherry\")\n",
        "print(thistuple)"
      ],
      "metadata": {
        "colab": {
          "base_uri": "https://localhost:8080/"
        },
        "id": "_mqOcSH2VnEp",
        "outputId": "7dd8a4ff-bf60-4795-a030-55c46bcca7db"
      },
      "execution_count": null,
      "outputs": [
        {
          "output_type": "stream",
          "name": "stdout",
          "text": [
            "('apple', 'banana', 'cherry', 'apple', 'cherry')\n"
          ]
        }
      ]
    },
    {
      "cell_type": "markdown",
      "source": [
        "**튜플 개수 확인**  \n",
        "튜플에 몇 개의 항목이 있는지 확인하려면 다음 len()함수를 사용하세요.  \n",
        "  \n",
        "**예**  \n",
        "튜플에 있는 항목의 개수를 출력합니다."
      ],
      "metadata": {
        "id": "sCBzaC3SV2NC"
      }
    },
    {
      "cell_type": "code",
      "source": [
        "thistuple = (\"apple\", \"banana\", \"cherry\")\n",
        "print(len(thistuple))"
      ],
      "metadata": {
        "colab": {
          "base_uri": "https://localhost:8080/"
        },
        "id": "Nn80CNKMWAJR",
        "outputId": "ece40d99-c01c-4b9f-9df3-2c158e349220"
      },
      "execution_count": null,
      "outputs": [
        {
          "output_type": "stream",
          "name": "stdout",
          "text": [
            "3\n"
          ]
        }
      ]
    },
    {
      "cell_type": "markdown",
      "source": [
        "**항목이 하나만 있는 튜플 만들기**  \n",
        "항목이 하나만 있는 튜플을 만들려면 항목 뒤에 쉼표를 추가해야 합니다.  \n",
        "그렇지 않으면 Python에서 튜플로 인식하지 못합니다.  \n",
        "\n",
        "**예**"
      ],
      "metadata": {
        "id": "mGiZdcN5WDPg"
      }
    },
    {
      "cell_type": "code",
      "source": [
        "thistuple = (\"apple\",)\n",
        "print(type(thistuple))\n",
        "\n",
        "#NOT a tuple\n",
        "thistuple = (\"apple\")\n",
        "print(type(thistuple))\n"
      ],
      "metadata": {
        "colab": {
          "base_uri": "https://localhost:8080/"
        },
        "id": "R_MnI5U4X-Ff",
        "outputId": "e20c127b-6b6f-4c78-b485-1c9e244f9b5a"
      },
      "execution_count": 6,
      "outputs": [
        {
          "output_type": "stream",
          "name": "stdout",
          "text": [
            "<class 'tuple'>\n",
            "<class 'str'>\n"
          ]
        }
      ]
    },
    {
      "cell_type": "markdown",
      "source": [
        "**튜플 항목 - 데이터 유형**  \n",
        "튜플 항목은 모든 데이터 유형이 될 수 있습니다.  \n",
        "**예**  \n",
        "문자열, 정수 및 부울 데이터 유형:"
      ],
      "metadata": {
        "id": "4nAE4KiVYHAf"
      }
    },
    {
      "cell_type": "code",
      "source": [
        "tuple1 = (\"apple\", \"banana\", \"cherry\")\n",
        "tuple2 = (1, 5, 7, 9, 3)\n",
        "tuple3 = (True, False, False)"
      ],
      "metadata": {
        "id": "_OxASszXYatr"
      },
      "execution_count": 5,
      "outputs": []
    },
    {
      "cell_type": "markdown",
      "source": [
        "**예**\n",
        "문자열, 정수 및 부울 값을 포함하는 튜플:"
      ],
      "metadata": {
        "id": "KF9g4q3MYgDh"
      }
    },
    {
      "cell_type": "code",
      "source": [
        "tuple1 = (\"abc\", 34, True, 40, \"male\")"
      ],
      "metadata": {
        "id": "ODewvGNGYfkS"
      },
      "execution_count": 7,
      "outputs": []
    },
    {
      "cell_type": "markdown",
      "source": [
        "**유형()**\n",
        "Python의 관점에서 튜플은 'tuple'이라는 데이터 유형을 가진 객체로 정의됩니다.  \n",
        "**예**  \n",
        "튜플의 데이터 유형은 무엇입니까?"
      ],
      "metadata": {
        "id": "8xURma6IYk1n"
      }
    },
    {
      "cell_type": "code",
      "source": [
        "mytuple = (\"apple\", \"banana\", \"cherry\")\n",
        "print(type(mytuple))"
      ],
      "metadata": {
        "colab": {
          "base_uri": "https://localhost:8080/"
        },
        "id": "Q7gBcX2VYtMB",
        "outputId": "412977a8-c54e-4d1d-a73b-12ffc5443272"
      },
      "execution_count": 8,
      "outputs": [
        {
          "output_type": "stream",
          "name": "stdout",
          "text": [
            "<class 'tuple'>\n"
          ]
        }
      ]
    },
    {
      "cell_type": "markdown",
      "source": [
        "**tuple() 생성자**  \n",
        "tuple() 생성자를 사용하여 튜플을 만드는 것도 가능합니다.\n",
        "**예**  \n",
        "tuple() 메서드를 사용하여 튜플을 만듭니다."
      ],
      "metadata": {
        "id": "lZYUzGW-YwCn"
      }
    },
    {
      "cell_type": "code",
      "source": [
        "thistuple = tuple((\"apple\", \"banana\", \"cherry\")) # note the double round-brackets\n",
        "print(thistuple)"
      ],
      "metadata": {
        "colab": {
          "base_uri": "https://localhost:8080/"
        },
        "id": "AJipyF8XY8L2",
        "outputId": "e226cdf3-62c2-4dc1-b79e-98eb27805626"
      },
      "execution_count": 9,
      "outputs": [
        {
          "output_type": "stream",
          "name": "stdout",
          "text": [
            "('apple', 'banana', 'cherry')\n"
          ]
        }
      ]
    },
    {
      "cell_type": "markdown",
      "source": [
        "**파이썬 컬렉션(배열)**\n",
        "Python 프로그래밍 언어에는 4가지 컬렉션 데이터 유형이 있습니다.\n",
        "\n",
        "**목록은** 정렬되고 변경 가능한 컬렉션입니다. 중복된 멤버를 허용합니다.  \n",
        "**튜플은** 순서가 있고 변경할 수 없는 컬렉션입니다. 중복된 멤버를 허용합니다.  \n",
        "**집합은** 순서가 없고, 변경 불가능하며, 인덱싱되지 않은 컬렉션입니다. 중복된 멤버가 없습니다.  \n",
        "**딕셔너리는** 정렬되고 변경 가능한 컬렉션입니다. 중복된 멤버는 없습니다."
      ],
      "metadata": {
        "id": "IfSG1IL2Y_lD"
      }
    },
    {
      "cell_type": "markdown",
      "source": [
        "# **Python - 튜플 항목에 접근하기**"
      ],
      "metadata": {
        "id": "UCE2X9UKZSjp"
      }
    },
    {
      "cell_type": "markdown",
      "source": [
        "**튜플 항목에 액세스**  \n",
        "대괄호 안에 인덱스 번호를 참조하여 튜플 항목에 액세스할 수 있습니다.  \n",
        "**예**  \n",
        "튜플의 두 번째 항목을 출력합니다."
      ],
      "metadata": {
        "id": "YJaYi3zvZUhx"
      }
    },
    {
      "cell_type": "code",
      "source": [
        "thistuple = (\"apple\", \"banana\", \"cherry\")\n",
        "print(thistuple[1])"
      ],
      "metadata": {
        "colab": {
          "base_uri": "https://localhost:8080/"
        },
        "id": "mc2uFBZzZe9v",
        "outputId": "45b0b0bd-7dbd-43da-c160-9f89f84de3e5"
      },
      "execution_count": 10,
      "outputs": [
        {
          "output_type": "stream",
          "name": "stdout",
          "text": [
            "banana\n"
          ]
        }
      ]
    },
    {
      "cell_type": "markdown",
      "source": [
        "**음수 인덱싱**  \n",
        "음수 인덱싱은 끝에서부터 시작한다는 것을 의미합니다.\n",
        "\n",
        "-1마지막 항목을 참조하고, -2두 번째로 마지막 항목을 참조합니다.  \n",
        "**예**  \n",
        "튜플의 마지막 항목을 출력합니다."
      ],
      "metadata": {
        "id": "cLvPrgoyZiCN"
      }
    },
    {
      "cell_type": "code",
      "source": [
        "thistuple = (\"apple\", \"banana\", \"cherry\")\n",
        "print(thistuple[-1])"
      ],
      "metadata": {
        "colab": {
          "base_uri": "https://localhost:8080/"
        },
        "id": "boTbuGy3ZqFz",
        "outputId": "79818d04-d09b-4bba-963a-d08afc622ef3"
      },
      "execution_count": 11,
      "outputs": [
        {
          "output_type": "stream",
          "name": "stdout",
          "text": [
            "cherry\n"
          ]
        }
      ]
    }
  ]
}