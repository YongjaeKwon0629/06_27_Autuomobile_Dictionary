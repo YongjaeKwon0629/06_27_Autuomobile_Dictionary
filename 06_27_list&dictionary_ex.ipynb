{
  "nbformat": 4,
  "nbformat_minor": 0,
  "metadata": {
    "colab": {
      "provenance": [],
      "gpuType": "T4",
      "authorship_tag": "ABX9TyO9xEJiWYg7tkMO2sN0DHSP",
      "include_colab_link": true
    },
    "kernelspec": {
      "name": "python3",
      "display_name": "Python 3"
    },
    "language_info": {
      "name": "python"
    },
    "accelerator": "GPU"
  },
  "cells": [
    {
      "cell_type": "markdown",
      "metadata": {
        "id": "view-in-github",
        "colab_type": "text"
      },
      "source": [
        "<a href=\"https://colab.research.google.com/github/YongjaeKwon0629/06_27_Autuomobile_Dictionary/blob/main/06_27_list%26dictionary_ex.ipynb\" target=\"_parent\"><img src=\"https://colab.research.google.com/assets/colab-badge.svg\" alt=\"Open In Colab\"/></a>"
      ]
    },
    {
      "cell_type": "markdown",
      "source": [
        "# **자율주행 고급 과제 모음 - 리스트와 딕셔너리 활용**"
      ],
      "metadata": {
        "id": "EuvZAJ4LDy4e"
      }
    },
    {
      "cell_type": "code",
      "execution_count": null,
      "metadata": {
        "id": "iuL5o1Z1Df67"
      },
      "outputs": [],
      "source": [
        "# ===== 과제 1: 스마트 신호등 타이밍 최적화 =====\n",
        "print(\"=== 과제 1: 스마트 신호등 타이밍 최적화 ===\")\n",
        "\n",
        "# 교차로별 대기 차량 수\n",
        "intersections = ['서울역앞', '시청앞', '종로3가', '을지로입구']\n",
        "waiting_cars = [12, 8, 15, 5]\n",
        "\n",
        "# 현재 신호등 상태와 남은 시간\n",
        "traffic_signals = {}\n",
        "traffic_signals['서울역앞'] = {'color': '빨강', 'time_left': 25, 'waiting': 12}\n",
        "traffic_signals['시청앞'] = {'color': '초록', 'time_left': 15, 'waiting': 8}\n",
        "traffic_signals['종로3가'] = {'color': '빨강', 'time_left': 40, 'waiting': 15}\n",
        "traffic_signals['을지로입구'] = {'color': '노랑', 'time_left': 3, 'waiting': 5}\n",
        "\n",
        "print(\"현재 교차로 상황:\")\n",
        "for intersection in intersections:\n",
        "    signal = traffic_signals[intersection]\n",
        "    print(f\"{intersection}: {signal['color']} {signal['time_left']}초, 대기차량 {signal['waiting']}대\")\n",
        "\n",
        "# 우선순위 교차로 선정 (대기차량 10대 이상이면 우선처리)\n",
        "print(\"\\n우선처리 필요 교차로:\")\n",
        "for intersection in intersections:\n",
        "    if traffic_signals[intersection]['waiting'] >= 10:\n",
        "        print(f\"⚠️ {intersection}: 대기차량 {traffic_signals[intersection]['waiting']}대\")\n"
      ]
    },
    {
      "cell_type": "code",
      "source": [
        "# ===== 과제 2: 자동 발렛파킹 시스템 =====\n",
        "print(\"\\n=== 과제 2: 자동 발렛파킹 시스템 ===\")\n",
        "\n",
        "# 차량 크기별 분류\n",
        "vehicle_sizes = ['소형', '중형', '대형', 'SUV']\n",
        "size_counts = [15, 20, 8, 12]\n",
        "\n",
        "# 주차공간 크기별 현황\n",
        "parking_spaces = {}\n",
        "parking_spaces['소형전용'] = {'total': 30, 'occupied': 15, 'size_limit': '소형'}\n",
        "parking_spaces['일반공간'] = {'total': 40, 'occupied': 28, 'size_limit': '중형'}\n",
        "parking_spaces['대형공간'] = {'total': 15, 'occupied': 8, 'size_limit': '대형'}\n",
        "parking_spaces['SUV전용'] = {'total': 20, 'occupied': 12, 'size_limit': 'SUV'}\n",
        "\n",
        "print(\"주차공간 현황:\")\n",
        "for space_type in parking_spaces:\n",
        "    space = parking_spaces[space_type]\n",
        "    available = space['total'] - space['occupied']\n",
        "    print(f\"{space_type}: {available}/{space['total']} 가능 ({space['size_limit']} 전용)\")\n",
        "\n",
        "# 신규 차량 주차 시뮬레이션\n",
        "new_vehicle = 'SUV'\n",
        "print(f\"\\n신규 {new_vehicle} 차량 주차 요청\")\n",
        "\n"
      ],
      "metadata": {
        "colab": {
          "base_uri": "https://localhost:8080/"
        },
        "id": "SzFTLbluEM6f",
        "outputId": "99ddc6d8-0dcc-47a8-dfd4-d2849fd56dcd"
      },
      "execution_count": 1,
      "outputs": [
        {
          "output_type": "stream",
          "name": "stdout",
          "text": [
            "\n",
            "=== 과제 2: 자동 발렛파킹 시스템 ===\n",
            "주차공간 현황:\n",
            "소형전용: 15/30 가능 (소형 전용)\n",
            "일반공간: 12/40 가능 (중형 전용)\n",
            "대형공간: 7/15 가능 (대형 전용)\n",
            "SUV전용: 8/20 가능 (SUV 전용)\n",
            "\n",
            "신규 SUV 차량 주차 요청\n"
          ]
        }
      ]
    },
    {
      "cell_type": "code",
      "source": [
        "# ===== 과제 3: 차량 군집주행 관리 시스템 =====\n",
        "print(\"\\n=== 과제 3: 차량 군집주행 관리 시스템 ===\")\n",
        "\n",
        "#군집주행 그룹 정보\n",
        "convoy_groups=['그룹A','그룹B','그룹C']\n",
        "group_vehicles=[[3,4,2],[5,6,8],[2,3]] #각 그룹의 차량 수\n",
        "#각 그룹별 상세 정보\n",
        "convoy_info={}\n",
        "convoy_info['그룹A']={'vehicles':3,'leader_speed':80,'formation':'일렬'}\n",
        "convoy_info['그룹B']={'vehicles':5,'leader_speed':70,'formation':'삼각'}\n",
        "convoy_info['그룹C']={'vehicles':2,'leader_speed':90,'formation':'병렬'}\n",
        "\n",
        "print(\"군집주행 현황:\")\n",
        "for group in convoy_groups:\n",
        "    info = convoy_info[group]\n",
        "    print(f\"{group}: {info['vehicles']}대, 속도{info['leader_speed']}km/h, {info['formation']}대형\")\n",
        "\n",
        "#안전 속도 권장(5대 이상이면 속도 제한)\n",
        "print(\"\\n안전권장사항:\")\n",
        "for group in convoy_groups:\n",
        "  info =convoy_info[group]\n",
        "  if info['vehicles']>=5:\n",
        "    recommended_speed=60\n",
        "    print(f\"{group}: 차량{info['vehicles']}대로 인해{recommended_speed}km/h 이하 권장\")"
      ],
      "metadata": {
        "colab": {
          "base_uri": "https://localhost:8080/"
        },
        "id": "L18k-epzEcmc",
        "outputId": "f524f757-0adf-469c-fd33-974f24bf594d"
      },
      "execution_count": 3,
      "outputs": [
        {
          "output_type": "stream",
          "name": "stdout",
          "text": [
            "\n",
            "=== 과제 3: 차량 군집주행 관리 시스템 ===\n",
            "군집주행 현황:\n",
            "그룹A: 3대, 속도80km/h, 일렬대형\n",
            "그룹B: 5대, 속도70km/h, 삼각대형\n",
            "그룹C: 2대, 속도90km/h, 병렬대형\n",
            "\n",
            "안전권장사항:\n",
            "그룹B: 차량5대로 인해60km/h 이하 권장\n"
          ]
        }
      ]
    },
    {
      "cell_type": "code",
      "source": [
        "# 적합한 주차공간 찾기\n",
        "suitable_spaces = []\n",
        "for space_type in parking_spaces:\n",
        "    space = parking_spaces[space_type]\n",
        "    available = space['total'] - space['occupied']\n",
        "    if space['size_limit'] == new_vehicle and available > 0:\n",
        "        suitable_spaces.append(space_type)\n",
        "\n",
        "if suitable_spaces:\n",
        "    print(f\"✅ {suitable_spaces[0]}에 주차 가능\")\n",
        "else:\n",
        "    print(\"❌ 적합한 주차공간 없음\")\n"
      ],
      "metadata": {
        "colab": {
          "base_uri": "https://localhost:8080/"
        },
        "id": "tgXk7mZiLU1U",
        "outputId": "1e873734-b930-44ae-fd53-ff068ecaa6a1"
      },
      "execution_count": 4,
      "outputs": [
        {
          "output_type": "stream",
          "name": "stdout",
          "text": [
            "✅ SUV전용에 주차 가능\n"
          ]
        }
      ]
    },
    {
      "cell_type": "code",
      "source": [
        "# ===== 과제 4: 긴급충전필요 차량 =====\n",
        "# 전기차 플릿과 배터리 상태 데이터 정의\n",
        "ev_fleet = ['EV001', 'EV002', 'EV003', 'EV004', 'EV005']\n",
        "ev_status = {\n",
        "    'EV001': {'battery': 25, 'location': '강남구', 'status': 'active'},\n",
        "    'EV002': {'battery': 85, 'location': '서초구', 'status': 'active'},\n",
        "    'EV003': {'battery': 15, 'location': '종로구', 'status': 'active'},\n",
        "    'EV004': {'battery': 60, 'location': '강남구', 'status': 'charging'},\n",
        "    'EV005': {'battery': 30, 'location': '서초구', 'status': 'active'}\n",
        "}\n",
        "# 긴급 충전 필요 차량 (배터리 30% 이하)\n",
        "print(\"\\n긴급 충전 필요:\")\n",
        "urgent_vehicles=[]\n",
        "for vehicle in ev_fleet:\n",
        "  if ev_status[vehicle]['battery']<=30:\n",
        "    urgent_vehicles.append(vehicle)\n",
        "    print(f\"🔋 {vehicle}: {ev_status[vehicle]['battery']}% - 즉시 충전 필요\")\n",
        "# 충전소 예약 시스템\n",
        "charging_stations = {}\n",
        "charging_stations['강남충전소'] = {'slots': 5, 'reserved': 2, 'fast_charge': True}\n",
        "charging_stations['서초충전소'] = {'slots': 3, 'reserved': 1, 'fast_charge': False}\n",
        "charging_stations['종로충전소'] = {'slots': 4, 'reserved': 4, 'fast_charge': True}\n",
        "\n",
        "print(\"\\n충전소 예약 현황:\")\n",
        "for station in charging_stations:\n",
        "    info = charging_stations[station]\n",
        "    available = info['slots'] - info['reserved']\n",
        "    charge_type = \"급속\" if info['fast_charge'] else \"완속\"\n",
        "    print(f\"{station}: {available}/{info['slots']} 이용가능 ({charge_type})\")\n"
      ],
      "metadata": {
        "colab": {
          "base_uri": "https://localhost:8080/"
        },
        "id": "LoT13YoTLWv_",
        "outputId": "53d9b9a3-3e4b-4a9b-e901-b3c58e8e28ae"
      },
      "execution_count": 6,
      "outputs": [
        {
          "output_type": "stream",
          "name": "stdout",
          "text": [
            "\n",
            "긴급 충전 필요:\n",
            "🔋 EV001: 25% - 즉시 충전 필요\n",
            "🔋 EV003: 15% - 즉시 충전 필요\n",
            "🔋 EV005: 30% - 즉시 충전 필요\n",
            "\n",
            "충전소 예약 현황:\n",
            "강남충전소: 3/5 이용가능 (급속)\n",
            "서초충전소: 2/3 이용가능 (완속)\n",
            "종로충전소: 0/4 이용가능 (급속)\n"
          ]
        }
      ]
    },
    {
      "cell_type": "code",
      "source": [
        "# ===== 과제 5: 도로 위험도 평가 및 경고 시스템 =====\n",
        "print(\"\\n=== 과제 5: 도로 위험도 평가 및 경고 시스템 ===\")\n",
        "# 도로 구간별 위험 요소\n",
        "road_segments = ['구간A', '구간B', '구간C', '구간D']\n",
        "road_conditions = [\n",
        "    {'rain': True, 'fog': False, 'construction': False, 'accident': False},\n",
        "    {'rain': False, 'fog': True, 'construction': True, 'accident': False},\n",
        "    {'rain': True, 'fog': False, 'construction': False, 'accident': True},\n",
        "    {'rain': False, 'fog': False, 'construction': False, 'accident': False}\n",
        "]\n",
        "# 도로별 위험도 계산\n",
        "road_safety={}\n",
        "for i, segment in enumerate(road_segments):\n",
        "  conditions=road_conditions[i]\n",
        "  risk_score=0\n",
        "\n",
        "  if conditions['rain']:\n",
        "    risk_score+=20\n",
        "  if conditions['fog']:\n",
        "    risk_score+=30\n",
        "  if conditions['construction']:\n",
        "    risk_score+=25\n",
        "  if conditions['accident']:\n",
        "    risk_score+=50\n",
        "  road_safety[segment]={'risk_score':risk_score,'conditions':conditions}\n",
        "\n",
        "print(\"도로 구간별 위험도:\")\n",
        "for segment in road_segments: # Corrected loop to iterate directly over road_segments\n",
        "  safety=road_safety[segment]\n",
        "  risk=safety['risk_score']\n",
        "  conditions=safety['conditions']\n",
        "\n",
        "  if risk>=50:\n",
        "    level=\"매우 위험\"\n",
        "  elif risk>=30:\n",
        "    level=\"위험\"\n",
        "  elif risk>=15:\n",
        "    level=\"주의\"\n",
        "  else:\n",
        "    level=\"안전\"\n",
        "  print(f\"{segment}:{risk}점 위험도:{level}\")\n",
        "\n",
        "  #위험요소 상세 표시\n",
        "  warnings=[]\n",
        "  if conditions['rain']:\n",
        "    warnings.append(\"우천\")\n",
        "  if conditions['fog']: # Corrected condition\n",
        "    warnings.append(\"안개\")\n",
        "  if conditions['construction']:\n",
        "    warnings.append(\"공사중\")\n",
        "  if conditions['accident']:\n",
        "    warnings.append(\"사고발생\")\n",
        "\n",
        "  if warnings:\n",
        "    print(f\" ⚠️ 위험요소:{','.join(warnings)}\")"
      ],
      "metadata": {
        "colab": {
          "base_uri": "https://localhost:8080/"
        },
        "id": "-DmRExmHOFvk",
        "outputId": "414e2d5d-838f-4786-b59d-71e683ac589b"
      },
      "execution_count": 10,
      "outputs": [
        {
          "output_type": "stream",
          "name": "stdout",
          "text": [
            "\n",
            "=== 과제 5: 도로 위험도 평가 및 경고 시스템 ===\n",
            "도로 구간별 위험도:\n",
            "구간A:20점 위험도:주의\n",
            " ⚠️ 위험요소:우천\n",
            "구간B:55점 위험도:매우 위험\n",
            " ⚠️ 위험요소:안개,공사중\n",
            "구간C:70점 위험도:매우 위험\n",
            " ⚠️ 위험요소:우천,사고발생\n",
            "구간D:0점 위험도:안전\n"
          ]
        }
      ]
    },
    {
      "cell_type": "code",
      "source": [
        "# ===== 과제 6: 승객 승하차 최적화 시스템 =====\n",
        "print(\"\\n=== 과제 6: 승객 승하차 최적화 시스템 ===\")\n",
        "\n",
        "# 버스 정류장별 대기 승객\n",
        "\n",
        "bus_stops = ['정류장1', '정류장2', '정류장3', '정류장4', '정류장5']\n",
        "waiting_passengers = [8, 3, 12, 6, 15]\n",
        "\n",
        "# 정류장별 상세 정보\n",
        "stop_info = {}\n",
        "stop_info['정류장1'] = {'waiting': 8, 'getting_off': 5, 'shelter': True}\n",
        "stop_info['정류장2'] = {'waiting': 3, 'getting_off': 2, 'shelter': False}\n",
        "stop_info['정류장3'] = {'waiting': 12, 'getting_off': 8, 'shelter': True}\n",
        "stop_info['정류장4'] = {'waiting': 6, 'getting_off': 3, 'shelter': False}\n",
        "stop_info['정류장5'] = {'waiting': 15, 'getting_off': 10, 'shelter': True}\n",
        "\n",
        "print(\"정류장별 승객 현황:\")\n",
        "\n",
        "for stop in bus_stops:\n",
        "    info = stop_info[stop]\n",
        "    shelter_status = \"있음\" if info['shelter'] else \"없음\"\n",
        "    print(f\"{stop}: 대기 {info['waiting']}명, 하차 {info['getting_off']}명 (차양막 {shelter_status})\")\n",
        "\n",
        "# 우선정차 정류장 (대기승객 10명 이상)\n",
        "print(\"\\n우선정차 권장 정류장:\")\n",
        "for stop in bus_stops:\n",
        "    if stop_info[stop]['waiting'] >= 10:\n",
        "        info = stop_info[stop]\n",
        "        print(f\"🚌 {stop}: 대기승객 {info['waiting']}명\")\n",
        "\n",
        "\n",
        "# 현재 버스 용량 시뮬레이션\n",
        "bus_capacity = 40\n",
        "current_passengers = 25\n",
        "\n",
        "print(f\"\\n현재 버스 상황: {current_passengers}/{bus_capacity}명 탑승 중\")\n",
        "\n",
        "for stop in bus_stops:\n",
        "    info = stop_info[stop]\n",
        "    after_getting_off = current_passengers - info['getting_off']\n",
        "    after_boarding = after_getting_off + info['waiting']\n",
        "\n",
        "    if after_boarding > bus_capacity:\n",
        "        can_board = bus_capacity - after_getting_off\n",
        "        print(f\"{stop}: {info['waiting']}명 중 {can_board}명만 탑승 가능 (포화상태)\")\n",
        "    else:\n",
        "        print(f\"{stop}: 전원 탑승 가능\")\n",
        "\n",
        "    # 다음 정류장으로 이동\n",
        "    current_passengers = min(after_boarding, bus_capacity)\n",
        "\n",
        "\n",
        "\n"
      ],
      "metadata": {
        "colab": {
          "base_uri": "https://localhost:8080/"
        },
        "id": "psSvCSbfTLH5",
        "outputId": "d554263e-c0dd-4c18-cb1a-b0817095cbe8"
      },
      "execution_count": 11,
      "outputs": [
        {
          "output_type": "stream",
          "name": "stdout",
          "text": [
            "\n",
            "=== 과제 6: 승객 승하차 최적화 시스템 ===\n",
            "정류장별 승객 현황:\n",
            "정류장1: 대기 8명, 하차 5명 (차양막 있음)\n",
            "정류장2: 대기 3명, 하차 2명 (차양막 없음)\n",
            "정류장3: 대기 12명, 하차 8명 (차양막 있음)\n",
            "정류장4: 대기 6명, 하차 3명 (차양막 없음)\n",
            "정류장5: 대기 15명, 하차 10명 (차양막 있음)\n",
            "\n",
            "우선정차 권장 정류장:\n",
            "🚌 정류장3: 대기승객 12명\n",
            "🚌 정류장5: 대기승객 15명\n",
            "\n",
            "현재 버스 상황: 25/40명 탑승 중\n",
            "정류장1: 전원 탑승 가능\n",
            "정류장2: 전원 탑승 가능\n",
            "정류장3: 전원 탑승 가능\n",
            "정류장4: 전원 탑승 가능\n",
            "정류장5: 15명 중 14명만 탑승 가능 (포화상태)\n"
          ]
        }
      ]
    }
  ]
}